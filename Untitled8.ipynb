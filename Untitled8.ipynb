{
  "nbformat": 4,
  "nbformat_minor": 0,
  "metadata": {
    "colab": {
      "provenance": [],
      "authorship_tag": "ABX9TyOCqqVxywKz3nCv+LCWanmV",
      "include_colab_link": true
    },
    "kernelspec": {
      "name": "python3",
      "display_name": "Python 3"
    },
    "language_info": {
      "name": "python"
    }
  },
  "cells": [
    {
      "cell_type": "markdown",
      "metadata": {
        "id": "view-in-github",
        "colab_type": "text"
      },
      "source": [
        "<a href=\"https://colab.research.google.com/github/RudrakshGupta0413/ML-Projects/blob/main/Untitled8.ipynb\" target=\"_parent\"><img src=\"https://colab.research.google.com/assets/colab-badge.svg\" alt=\"Open In Colab\"/></a>"
      ]
    },
    {
      "cell_type": "code",
      "execution_count": null,
      "metadata": {
        "colab": {
          "base_uri": "https://localhost:8080/"
        },
        "id": "bYjPJUeKp0IU",
        "outputId": "1e66dfea-0028-4877-ef6d-93a65894f2a3"
      },
      "outputs": [
        {
          "output_type": "stream",
          "name": "stdout",
          "text": [
            "Chars = 7\n",
            "Digits = 2\n",
            "Symbols = 4\n"
          ]
        }
      ],
      "source": [
        "def count_chars_digits_symbols(input_string):\n",
        "    chars = 0\n",
        "    digits = 0\n",
        "    symbols = 0\n",
        "\n",
        "    for char in input_string:\n",
        "        if char.isalpha():\n",
        "            chars += 1\n",
        "        elif char.isdigit():\n",
        "            digits += 1\n",
        "        else:\n",
        "            symbols += 1\n",
        "\n",
        "    print(f\"Chars = {chars}\")\n",
        "    print(f\"Digits = {digits}\")\n",
        "    print(f\"Symbols = {symbols}\")\n",
        "\n",
        "# Test the function with the given string\n",
        "str1 = \"D@#e9ra^&d6un\"\n",
        "count_chars_digits_symbols(str1)\n"
      ]
    },
    {
      "cell_type": "code",
      "source": [
        "def iterate_lists(list1, list2):\n",
        "    # Reverse list2 using slicing [::-1]\n",
        "    for item1, item2 in zip(list1, list2[::-1]):\n",
        "        print(item1, item2)\n",
        "\n",
        "# Given lists\n",
        "list1 = [10, 20, 30, 40]\n",
        "list2 = [100, 200, 300, 400]\n",
        "\n",
        "iterate_lists(list1, list2)\n"
      ],
      "metadata": {
        "id": "uucTwPp2rHRA",
        "outputId": "399d91c8-35e2-4305-d0ef-380f5ecc6f0b",
        "colab": {
          "base_uri": "https://localhost:8080/"
        }
      },
      "execution_count": null,
      "outputs": [
        {
          "output_type": "stream",
          "name": "stdout",
          "text": [
            "10 400\n",
            "20 300\n",
            "30 200\n",
            "40 100\n"
          ]
        }
      ]
    }
  ]
}